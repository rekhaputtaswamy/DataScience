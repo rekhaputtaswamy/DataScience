{
 "cells": [
  {
   "cell_type": "code",
   "execution_count": 5,
   "metadata": {},
   "outputs": [],
   "source": [
    "from scipy import misc"
   ]
  },
  {
   "cell_type": "code",
   "execution_count": 6,
   "metadata": {},
   "outputs": [],
   "source": [
    "def NewtonMethod(f, x, tolerance=0.000001):\n",
    "    while True:\n",
    "        x1 = x - f(x) / misc.derivative(f, x)\n",
    "        t = abs(x1 - x)\n",
    "        \n",
    "        if t < tolerance:\n",
    "            break\n",
    "        x = x1\n",
    "    return x"
   ]
  },
  {
   "cell_type": "code",
   "execution_count": 7,
   "metadata": {},
   "outputs": [],
   "source": [
    "def f(x):\n",
    "    return 1.0*x**2 - 2*x**2 + 1"
   ]
  },
  {
   "cell_type": "code",
   "execution_count": 12,
   "metadata": {},
   "outputs": [],
   "source": [
    "def h_(x):\n",
    "    return 3.0*x**2 - 4*x"
   ]
  },
  {
   "cell_type": "code",
   "execution_count": 8,
   "metadata": {},
   "outputs": [],
   "source": [
    "x = 4\n",
    "x0 = NewtonMethod(f, x)"
   ]
  },
  {
   "cell_type": "code",
   "execution_count": 10,
   "metadata": {},
   "outputs": [
    {
     "name": "stdout",
     "output_type": "stream",
     "text": [
      "x:  4\n",
      "x0:  1.0000001591732348\n",
      "fx0:  -3.183464949430004e-07\n"
     ]
    }
   ],
   "source": [
    "print('x: ', x)\n",
    "print('x0: ', x0)\n",
    "print ('fx0: ', 1.0*x0**2 - 2*x0**2 + 1)"
   ]
  },
  {
   "cell_type": "code",
   "execution_count": 13,
   "metadata": {},
   "outputs": [
    {
     "name": "stdout",
     "output_type": "stream",
     "text": [
      "x:  4\n",
      "hx0:  1.3333333333404964\n",
      "hx0:  -0.9999996816534544\n"
     ]
    }
   ],
   "source": [
    "hx0 = NewtonMethod(h_, x)\n",
    "\n",
    "print('x: ', x)\n",
    "print('hx0: ', hx0)\n",
    "print ('hx0: ', 3.0*x0**2 - 4*x0)"
   ]
  }
 ],
 "metadata": {
  "kernelspec": {
   "display_name": "Python 3",
   "language": "python",
   "name": "python3"
  },
  "language_info": {
   "codemirror_mode": {
    "name": "ipython",
    "version": 3
   },
   "file_extension": ".py",
   "mimetype": "text/x-python",
   "name": "python",
   "nbconvert_exporter": "python",
   "pygments_lexer": "ipython3",
   "version": "3.7.0"
  }
 },
 "nbformat": 4,
 "nbformat_minor": 2
}
